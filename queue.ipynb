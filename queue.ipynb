{
 "cells": [
  {
   "attachments": {},
   "cell_type": "markdown",
   "metadata": {},
   "source": [
    "## Approach\n",
    "The approach used in this implementation of the queue data structure in Python is to use a list to represent the queue. To implement the enqueue operation, we append the item to the end of the list, which represents the back of the queue. For the dequeue operation, we remove the first element of the list, which is the item at the front of the queue. To implement the peek operation, we access the first element of the list. Finally, to check if the queue is empty, we check if the length of the list is 0."
   ]
  },
  {
   "cell_type": "code",
   "execution_count": 1,
   "metadata": {},
   "outputs": [],
   "source": [
    "class Queue:\n",
    "    \"\"\"\n",
    "    A class representing a queue data structure.\n",
    "    \"\"\"\n",
    "\n",
    "    def __init__(self):\n",
    "        self.items = []\n",
    "\n",
    "    def enqueue(self, item: int):\n",
    "        \"\"\"\n",
    "        Add an item to the back of the queue.\n",
    "\n",
    "        Args:\n",
    "            item (int): The item to be added to the queue.\n",
    "        \"\"\"\n",
    "        self.items.append(item)\n",
    "\n",
    "    def dequeue(self) -> int:\n",
    "        \"\"\"\n",
    "        Remove and return the item at the front of the queue.\n",
    "\n",
    "        Returns:\n",
    "            The item at the front of the queue.\n",
    "        \"\"\"\n",
    "        if not self.is_empty():\n",
    "            return self.items.pop(0)\n",
    "\n",
    "    def peek(self) -> int:\n",
    "        \"\"\"\n",
    "        Return the item at the front of the queue without removing it.\n",
    "\n",
    "        Returns:\n",
    "            The item at the front of the queue.\n",
    "        \"\"\"\n",
    "        if not self.is_empty():\n",
    "            return self.items[0]\n",
    "\n",
    "    def is_empty(self) -> bool:\n",
    "        \"\"\"\n",
    "        Return True if the queue is empty, else False.\n",
    "\n",
    "        Returns:\n",
    "            A boolean value indicating whether the queue is empty.\n",
    "        \"\"\"\n",
    "        return len(self.items) == 0\n"
   ]
  },
  {
   "attachments": {},
   "cell_type": "markdown",
   "metadata": {},
   "source": [
    "## Test Cases"
   ]
  },
  {
   "cell_type": "code",
   "execution_count": 2,
   "metadata": {},
   "outputs": [],
   "source": [
    "def test_queue():\n",
    "    q = Queue()\n",
    "\n",
    "    assert q.is_empty() == True\n",
    "\n",
    "    q.enqueue(1)\n",
    "    q.enqueue(2)\n",
    "    q.enqueue(3)\n",
    "\n",
    "    assert q.is_empty() == False\n",
    "\n",
    "    assert q.peek() == 1\n",
    "\n",
    "    assert q.dequeue() == 1\n",
    "\n",
    "    assert q.peek() == 2\n",
    "\n",
    "    q.enqueue(4)\n",
    "\n",
    "    assert q.peek() == 2\n",
    "\n",
    "    assert q.dequeue() == 2\n",
    "    assert q.dequeue() == 3\n",
    "    assert q.dequeue() == 4\n",
    "\n",
    "    assert q.is_empty() == True\n",
    "\n",
    "    print(\"All tests passed!\")"
   ]
  },
  {
   "cell_type": "code",
   "execution_count": 3,
   "metadata": {},
   "outputs": [
    {
     "name": "stdout",
     "output_type": "stream",
     "text": [
      "All tests passed!\n"
     ]
    }
   ],
   "source": [
    "test_queue()"
   ]
  }
 ],
 "metadata": {
  "kernelspec": {
   "display_name": "Python 3",
   "language": "python",
   "name": "python3"
  },
  "language_info": {
   "codemirror_mode": {
    "name": "ipython",
    "version": 3
   },
   "file_extension": ".py",
   "mimetype": "text/x-python",
   "name": "python",
   "nbconvert_exporter": "python",
   "pygments_lexer": "ipython3",
   "version": "3.9.13"
  },
  "orig_nbformat": 4
 },
 "nbformat": 4,
 "nbformat_minor": 2
}
