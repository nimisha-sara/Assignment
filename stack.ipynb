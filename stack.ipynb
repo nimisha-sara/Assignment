{
 "cells": [
  {
   "attachments": {},
   "cell_type": "markdown",
   "metadata": {},
   "source": [
    "### Approach\n",
    "The approach used in this implementation of the stack data structure in Python is to use a list to represent the stack. This is a simple and efficient way to implement a stack as lists in Python are dynamic arrays that provide constant-time access to the last element, which is the top of the stack.\n",
    "\n",
    "To implement the push operation, we append the item to the end of the list, which represents the top of the stack. For the pop operation, we simply remove the last element of the list, which is the item at the top of the stack. To implement the peek operation, we access the last element of the list. Finally, to check if the stack is empty, we check if the length of the list is 0."
   ]
  },
  {
   "cell_type": "code",
   "execution_count": 1,
   "metadata": {},
   "outputs": [],
   "source": [
    "class Stack:\n",
    "    \"\"\"\n",
    "    A class representing a stack data structure.\n",
    "    \"\"\"\n",
    "    \n",
    "    def __init__(self):\n",
    "        self.items = []\n",
    "\n",
    "    def push(self, item: int):\n",
    "        \"\"\"\n",
    "        Add an item to the top of the stack.\n",
    "\n",
    "        Args:\n",
    "            item (int): The item to be added to the stack.\n",
    "        \"\"\"\n",
    "        self.items.append(item)\n",
    "\n",
    "    def pop(self) -> int:\n",
    "        \"\"\"\n",
    "        Remove and return the item on the top of the stack.\n",
    "\n",
    "        Returns:\n",
    "            The item on the top of the stack.\n",
    "        \"\"\"\n",
    "        if not self.is_empty():\n",
    "            return self.items.pop()\n",
    "\n",
    "    def peek(self) -> int:\n",
    "        \"\"\"\n",
    "        Return the item on the top of the stack without removing it.\n",
    "\n",
    "        Returns:\n",
    "            The item on the top of the stack.\n",
    "        \"\"\"\n",
    "        if not self.is_empty():\n",
    "            return self.items[-1]\n",
    "\n",
    "    def is_empty(self) -> bool:\n",
    "        \"\"\"\n",
    "        Return True if the stack is empty, else False.\n",
    "\n",
    "        Returns:\n",
    "            A boolean value indicating whether the stack is empty.\n",
    "        \"\"\"\n",
    "        return len(self.items) == 0"
   ]
  },
  {
   "attachments": {},
   "cell_type": "markdown",
   "metadata": {},
   "source": [
    "### Test Cases"
   ]
  },
  {
   "cell_type": "code",
   "execution_count": 2,
   "metadata": {},
   "outputs": [],
   "source": [
    "def test_stack():\n",
    "    s = Stack()\n",
    "\n",
    "    assert s.is_empty() == True\n",
    "\n",
    "    s.push(1)\n",
    "    s.push(2)\n",
    "    s.push(3)\n",
    "\n",
    "    assert s.is_empty() == False\n",
    "\n",
    "    assert s.peek() == 3\n",
    "\n",
    "    assert s.pop() == 3\n",
    "\n",
    "    assert s.peek() == 2\n",
    "\n",
    "    s.push(4)\n",
    "\n",
    "    assert s.peek() == 4\n",
    "\n",
    "    assert s.pop() == 4\n",
    "    assert s.pop() == 2\n",
    "    assert s.pop() == 1\n",
    "\n",
    "    assert s.is_empty() == True\n",
    "\n",
    "    print(\"All tests passed!\")"
   ]
  },
  {
   "cell_type": "code",
   "execution_count": 3,
   "metadata": {},
   "outputs": [
    {
     "name": "stdout",
     "output_type": "stream",
     "text": [
      "All tests passed!\n"
     ]
    }
   ],
   "source": [
    "test_stack()"
   ]
  }
 ],
 "metadata": {
  "kernelspec": {
   "display_name": "Python 3",
   "language": "python",
   "name": "python3"
  },
  "language_info": {
   "codemirror_mode": {
    "name": "ipython",
    "version": 3
   },
   "file_extension": ".py",
   "mimetype": "text/x-python",
   "name": "python",
   "nbconvert_exporter": "python",
   "pygments_lexer": "ipython3",
   "version": "3.9.13"
  },
  "orig_nbformat": 4
 },
 "nbformat": 4,
 "nbformat_minor": 2
}
