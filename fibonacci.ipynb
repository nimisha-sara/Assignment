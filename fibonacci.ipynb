{
 "cells": [
  {
   "attachments": {},
   "cell_type": "markdown",
   "metadata": {},
   "source": [
    "## Approach\n",
    "If n is 0 or 1, the function returns the corresponding value in the sequence (0 for n=0 and 1 for n=1). For all other values of n, the function uses a loop to calculate the nth term. It initializes three variables: prev_1, prev_2, and curr. prev_1 and prev_2 are used to keep track of the two previous terms in the sequence, and curr is used to keep track of the current term.\n",
    "\n",
    "The loop iterates from 2 to n, since the first two terms in the sequence are already known. In each iteration of the loop, curr is calculated as the sum of prev_1 and prev_2, and then prev_2 is updated to be equal to prev_1, and prev_1 is updated to be equal to curr. After the loop completes, curr contains the nth term in the sequence, and the function returns this value."
   ]
  },
  {
   "cell_type": "code",
   "execution_count": 4,
   "metadata": {},
   "outputs": [],
   "source": [
    "def fibonacci(n: int) -> int:\n",
    "    if n < 0:\n",
    "        raise ValueError(\"n must be a non-negative integer\")\n",
    "\n",
    "    if n == 0:\n",
    "        return 0\n",
    "    elif n == 1:\n",
    "        return 1\n",
    "\n",
    "    prev_1 = 1\n",
    "    prev_2 = 0\n",
    "    curr = 0\n",
    "    for i in range(2, n+1):\n",
    "        curr = prev_1 + prev_2\n",
    "        prev_2 = prev_1\n",
    "        prev_1 = curr\n",
    "\n",
    "    return curr\n"
   ]
  },
  {
   "attachments": {},
   "cell_type": "markdown",
   "metadata": {},
   "source": [
    "## Test Cases"
   ]
  },
  {
   "cell_type": "code",
   "execution_count": 5,
   "metadata": {},
   "outputs": [],
   "source": [
    "def test_fibonacci():\n",
    "    # Test base cases\n",
    "    assert fibonacci(0) == 0\n",
    "    assert fibonacci(1) == 1\n",
    "\n",
    "    # Test other values\n",
    "    assert fibonacci(2) == 1\n",
    "    assert fibonacci(3) == 2\n",
    "    assert fibonacci(4) == 3\n",
    "    assert fibonacci(5) == 5\n",
    "    assert fibonacci(6) == 8\n",
    "    assert fibonacci(7) == 13\n",
    "    assert fibonacci(8) == 21\n",
    "\n",
    "    # Test negative input\n",
    "    try:\n",
    "        fibonacci(-1)\n",
    "    except ValueError:\n",
    "        pass\n",
    "    else:\n",
    "        assert False, \"fibonacci(-1) should raise ValueError\"\n",
    "\n",
    "    print(\"All tests passed!\")"
   ]
  },
  {
   "cell_type": "code",
   "execution_count": 6,
   "metadata": {},
   "outputs": [
    {
     "name": "stdout",
     "output_type": "stream",
     "text": [
      "All tests passed!\n"
     ]
    }
   ],
   "source": [
    "test_fibonacci()"
   ]
  }
 ],
 "metadata": {
  "kernelspec": {
   "display_name": "Python 3",
   "language": "python",
   "name": "python3"
  },
  "language_info": {
   "codemirror_mode": {
    "name": "ipython",
    "version": 3
   },
   "file_extension": ".py",
   "mimetype": "text/x-python",
   "name": "python",
   "nbconvert_exporter": "python",
   "pygments_lexer": "ipython3",
   "version": "3.9.13"
  },
  "orig_nbformat": 4
 },
 "nbformat": 4,
 "nbformat_minor": 2
}
