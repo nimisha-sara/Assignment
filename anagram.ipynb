{
 "cells": [
  {
   "attachments": {},
   "cell_type": "markdown",
   "metadata": {},
   "source": [
    "## Approach\n",
    "This implementation first removes all spaces from both strings and converts them to lowercase to ensure that any differences in capitalization or spacing won't affect the result. It then checks if both strings have the same length, since two strings can only be anagrams if they have the same number of letters.\n",
    "\n",
    "Next, it converts both strings to lists and sorts them. By sorting the lists, it ensures that any two anagrams of each other will have the same sorted list of characters.\n",
    "\n",
    "Finally, it compares the sorted lists to see if they are equal. If they are, the function returns True, indicating that the two strings are anagrams of each other. If not, it returns False."
   ]
  },
  {
   "cell_type": "code",
   "execution_count": 1,
   "metadata": {},
   "outputs": [],
   "source": [
    "def is_anagram(str1: str, str2: str) -> bool:\n",
    "    \"\"\"\n",
    "    Check if two strings are anagrams of each other.\n",
    "\n",
    "    Args:\n",
    "        str1 (str): The first string.\n",
    "        str2 (str): The second string.\n",
    "\n",
    "    Returns:\n",
    "        True if the two strings are anagrams of each other, else False.\n",
    "    \"\"\"\n",
    "    # Convert both strings to lowercase and remove all non-alphabetic characters\n",
    "    str1 = ''.join(filter(str.isalpha, str1.lower()))\n",
    "    str2 = ''.join(filter(str.isalpha, str2.lower()))\n",
    "\n",
    "    # Check if the sorted versions of the strings match\n",
    "    return sorted(str1) == sorted(str2)\n"
   ]
  },
  {
   "attachments": {},
   "cell_type": "markdown",
   "metadata": {},
   "source": [
    "## Test Cases"
   ]
  },
  {
   "cell_type": "code",
   "execution_count": 2,
   "metadata": {},
   "outputs": [],
   "source": [
    "def test_anagram():\n",
    "    assert is_anagram(\"charm\", \"march\") == True\n",
    "    assert is_anagram(\"tired\", \"tried\") == True\n",
    "    assert is_anagram(\"Madam Curie\", \"Radium came\") == True\n",
    "    assert is_anagram(\"hello\", \"world\") == False\n",
    "    assert is_anagram(\"heart\", \"ealth\") == False\n",
    "\n",
    "    print(\"All tests passed!\")"
   ]
  },
  {
   "cell_type": "code",
   "execution_count": 3,
   "metadata": {},
   "outputs": [
    {
     "name": "stdout",
     "output_type": "stream",
     "text": [
      "All tests passed!\n"
     ]
    }
   ],
   "source": [
    "test_anagram()"
   ]
  }
 ],
 "metadata": {
  "kernelspec": {
   "display_name": "Python 3",
   "language": "python",
   "name": "python3"
  },
  "language_info": {
   "codemirror_mode": {
    "name": "ipython",
    "version": 3
   },
   "file_extension": ".py",
   "mimetype": "text/x-python",
   "name": "python",
   "nbconvert_exporter": "python",
   "pygments_lexer": "ipython3",
   "version": "3.9.13"
  },
  "orig_nbformat": 4
 },
 "nbformat": 4,
 "nbformat_minor": 2
}
